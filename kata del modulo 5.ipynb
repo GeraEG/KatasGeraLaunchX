{
 "cells": [
  {
   "cell_type": "markdown",
   "metadata": {},
   "source": [
    "Ejercicio1 - Utilizar operadores aritméticos"
   ]
  },
  {
   "cell_type": "code",
   "execution_count": null,
   "metadata": {},
   "outputs": [],
   "source": [
    "Tierra = 149597870\n",
    "Jupiter = 778547200\n",
    "\n",
    "distancia = Jupiter - Tierra\n",
    "millas = distancia * 0.621\n",
    "\n",
    "print(distancia)\n",
    "print(millas)\n"
   ]
  },
  {
   "cell_type": "markdown",
   "metadata": {},
   "source": [
    "Ejercicio 2: convierte cadenas en números y usa valores absolutos"
   ]
  },
  {
   "cell_type": "code",
   "execution_count": null,
   "metadata": {},
   "outputs": [],
   "source": [
    "mercurio = input('')\n",
    "neptuno = input('')\n",
    "\n",
    "mercurio = int(mercurio)\n",
    "neptuno = int(neptuno)\n",
    "\n",
    "distancia = mercurio - neptuno\n",
    "print(distancia)\n",
    "\n",
    "millas = distancia * 0.621\n",
    "print(abs(millas))\n"
   ]
  }
 ],
 "metadata": {
  "interpreter": {
   "hash": "216338a39e6d657de16fe14c6cb1d46d7149b68b658eb021b63e6e92af0dbc4a"
  },
  "kernelspec": {
   "display_name": "Python 3.10.2 64-bit",
   "language": "python",
   "name": "python3"
  },
  "language_info": {
   "codemirror_mode": {
    "name": "ipython",
    "version": 3
   },
   "file_extension": ".py",
   "mimetype": "text/x-python",
   "name": "python",
   "nbconvert_exporter": "python",
   "pygments_lexer": "ipython3",
   "version": "3.10.2"
  },
  "orig_nbformat": 4
 },
 "nbformat": 4,
 "nbformat_minor": 2
}
