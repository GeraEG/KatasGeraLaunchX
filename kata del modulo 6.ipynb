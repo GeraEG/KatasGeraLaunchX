{
 "cells": [
  {
   "cell_type": "markdown",
   "metadata": {},
   "source": [
    "Ejercicio1: Crear y usar listas de Python"
   ]
  },
  {
   "cell_type": "code",
   "execution_count": 34,
   "metadata": {},
   "outputs": [
    {
     "name": "stdout",
     "output_type": "stream",
     "text": [
      "Exiten en total 9 planetas en nuestro sistema solar\n",
      "El último planeta es Pluto\n"
     ]
    }
   ],
   "source": [
    "planets = ['Mercury', 'Venus', 'Earth', 'Mars', 'Jupiter', 'Saturn', 'Uranus', 'Neptune']\n",
    "planets.append('Pluto')\n",
    "number_planets = len(planets)\n",
    "print ('Exiten en total', number_planets ,'planetas en nuestro sistema solar')\n",
    "print('El último planeta es', planets[-1])"
   ]
  },
  {
   "cell_type": "markdown",
   "metadata": {},
   "source": [
    "Ejercicio 2: Trabajando con datos de una lista"
   ]
  },
  {
   "cell_type": "code",
   "execution_count": 32,
   "metadata": {},
   "outputs": [
    {
     "name": "stdout",
     "output_type": "stream",
     "text": [
      "Venus es el planeta 2 del sistema solar\n",
      "Los planetas que estan antes de Venus son ['Mercury']\n",
      "Los planetas que estan después de Venus son ['Earth', 'Mars', 'Jupiter', 'Saturn', 'Neptune']\n"
     ]
    }
   ],
   "source": [
    "planets = ['Mercury', 'Venus', 'Earth', 'Mars', 'Jupiter', 'Saturn', 'Neptune']\n",
    "select_planet = input('Ingresa el nombre de un planeta de nuestro sistema solar, comenzando por mayusculas')\n",
    "planet_index = planets.index(select_planet)\n",
    "\n",
    "before_planets = planets[0:planet_index]\n",
    "after_planets = planets[planet_index + 1:]\n",
    "\n",
    "print(select_planet, 'es el planeta', planet_index + 1, 'del sistema solar')\n",
    "print('Los planetas que estan antes de', select_planet, 'son', before_planets)\n",
    "print('Los planetas que estan después de', select_planet, 'son', after_planets)"
   ]
  }
 ],
 "metadata": {
  "interpreter": {
   "hash": "216338a39e6d657de16fe14c6cb1d46d7149b68b658eb021b63e6e92af0dbc4a"
  },
  "kernelspec": {
   "display_name": "Python 3.10.2 64-bit",
   "language": "python",
   "name": "python3"
  },
  "language_info": {
   "codemirror_mode": {
    "name": "ipython",
    "version": 3
   },
   "file_extension": ".py",
   "mimetype": "text/x-python",
   "name": "python",
   "nbconvert_exporter": "python",
   "pygments_lexer": "ipython3",
   "version": "3.10.2"
  },
  "orig_nbformat": 4
 },
 "nbformat": 4,
 "nbformat_minor": 2
}
