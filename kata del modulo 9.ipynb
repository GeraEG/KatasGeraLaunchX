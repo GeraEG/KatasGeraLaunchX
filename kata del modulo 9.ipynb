{
 "cells": [
  {
   "cell_type": "markdown",
   "metadata": {},
   "source": [
    "Ejercicio 1: Trabajar con argumentos en funciones"
   ]
  },
  {
   "cell_type": "code",
   "execution_count": null,
   "metadata": {},
   "outputs": [],
   "source": [
    "def lectura_combustible (combustible_1, combustible_2, combustible_3):\n",
    "    prom_combustible = (combustible_1 + combustible_2 + combustible_3) / 3\n",
    "    return f\"\"\"informe:\n",
    "    prom_combustible: {prom_combustible}%\n",
    "    combustible_1: {combustible_1}%\n",
    "    combustible_2: {combustible_2}%\n",
    "    combustible_3: {combustible_3}%\n",
    "    \"\"\"\n",
    "print(lectura_combustible(50, 40, 30))"
   ]
  },
  {
   "cell_type": "code",
   "execution_count": null,
   "metadata": {},
   "outputs": [],
   "source": [
    "def lectura_tanque(combustible):\n",
    "    total = sum(combustible)\n",
    "    numero = len(combustible)\n",
    "    return total / numero\n",
    "\n",
    "lectura_tanque([50, 40, 30]) "
   ]
  },
  {
   "cell_type": "code",
   "execution_count": null,
   "metadata": {},
   "outputs": [],
   "source": [
    "def lectura_combustible (combustible_1, combustible_2, combustible_3):\n",
    "    return f\"\"\"informe:\n",
    "    prom_combustible: {promedio([combustible_1, combustible_2, combustible_3])}%\n",
    "    combustible_1: {combustible_1}%\n",
    "    combustible_2: {combustible_2}%\n",
    "    combustible_3: {combustible_3}%\n",
    "    \"\"\"\n",
    "print(lectura_combustible(50, 40, 30))"
   ]
  },
  {
   "cell_type": "markdown",
   "metadata": {},
   "source": [
    "Ejercicio 2: Trabajo con argumentos de palabra clave"
   ]
  },
  {
   "cell_type": "code",
   "execution_count": null,
   "metadata": {},
   "outputs": [],
   "source": [
    "def informe_mision(prelanzamiento, tiempo_vuelo, destino, tanque_ext, tanque_int):\n",
    "    return f\"\"\"\n",
    "    Con destino a {destino}\n",
    "    horas vuelo {prelanzamiento, tiempo_vuelo}\n",
    "    tanque total {tanque_ext, tanque_int}\n",
    "\"\"\"\n",
    "print(informe_mision(10, 2500, \"marte\", 50000, 30000))\n",
    "\n"
   ]
  },
  {
   "cell_type": "code",
   "execution_count": null,
   "metadata": {},
   "outputs": [],
   "source": [
    "def informe_mision(destino, *minutos, **fuel_reservoirs):\n",
    "    return f\"\"\"\n",
    "    Con destino a {destino}\n",
    "    horas vuelo: {sum(minutos)} días\n",
    "    tanque total: {sum(fuel_reservoirs.values())} litros\n",
    "    \"\"\"\n",
    "\n",
    "print(informe_mision(\"marte\", 20, 100, 150, ext=50000, int=30000))\n"
   ]
  },
  {
   "cell_type": "code",
   "execution_count": 49,
   "metadata": {},
   "outputs": [
    {
     "name": "stdout",
     "output_type": "stream",
     "text": [
      "\n",
      "    Con destino a marte\n",
      "    horas vuelo: 270 días\n",
      "    tanque total: 80000 litros\n",
      "     tanque  ext :   50000 tanque  int :   30000\n"
     ]
    }
   ],
   "source": [
    "def informe_mision(destino, *minutos, **reservaciones):\n",
    "    informe_principal = f\"\"\"\n",
    "    Con destino a {destino}\n",
    "    horas vuelo: {sum(minutos)} días\n",
    "    tanque total: {sum(reservaciones.values())} litros\n",
    "    \"\"\"\n",
    "    \n",
    "    for tanque, litros in reservaciones.items():\n",
    "        informe_principal += f\" tanque  {tanque} :   {litros}\"\n",
    "    return informe_principal\n",
    "print(informe_mision(\"marte\", 20, 100, 150, ext=50000, int=30000))\n"
   ]
  }
 ],
 "metadata": {
  "interpreter": {
   "hash": "216338a39e6d657de16fe14c6cb1d46d7149b68b658eb021b63e6e92af0dbc4a"
  },
  "kernelspec": {
   "display_name": "Python 3.10.2 64-bit",
   "language": "python",
   "name": "python3"
  },
  "language_info": {
   "codemirror_mode": {
    "name": "ipython",
    "version": 3
   },
   "file_extension": ".py",
   "mimetype": "text/x-python",
   "name": "python",
   "nbconvert_exporter": "python",
   "pygments_lexer": "ipython3",
   "version": "3.10.2"
  },
  "orig_nbformat": 4
 },
 "nbformat": 4,
 "nbformat_minor": 2
}
