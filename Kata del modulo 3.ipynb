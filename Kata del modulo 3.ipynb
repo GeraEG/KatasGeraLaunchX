{
 "cells": [
  {
   "cell_type": "markdown",
   "metadata": {},
   "source": [
    "Problema No. 1"
   ]
  },
  {
   "cell_type": "code",
   "execution_count": 3,
   "metadata": {},
   "outputs": [
    {
     "name": "stdout",
     "output_type": "stream",
     "text": [
      "Advertencia un asteroide se acerca a la Tierra demasiado rápido\n"
     ]
    }
   ],
   "source": [
    "a = 25\n",
    "asteroide = 49\n",
    "if a < asteroide:\n",
    "    print (\"Advertencia un asteroide se acerca a la Tierra demasiado rápido\")\n",
    "else:\n",
    "    print (\"No existe peligro de asteroide\")"
   ]
  },
  {
   "cell_type": "markdown",
   "metadata": {},
   "source": [
    "Problema No. 2"
   ]
  },
  {
   "cell_type": "code",
   "execution_count": 6,
   "metadata": {},
   "outputs": [
    {
     "name": "stdout",
     "output_type": "stream",
     "text": [
      "Cielo totalmente despejado\n"
     ]
    }
   ],
   "source": [
    "asteroide = 19\n",
    "if asteroide > 20:\n",
    "    print (\"Un rayo de luz se puede ver en el cielo\")\n",
    "elif asteroide == 20:\n",
    "    print (\"Un destello puede verse en las nubes\")\n",
    "else:\n",
    "    print (\"Cielo totalmente despejado\")\n"
   ]
  },
  {
   "cell_type": "markdown",
   "metadata": {},
   "source": [
    "Problema No. 3"
   ]
  },
  {
   "cell_type": "code",
   "execution_count": 12,
   "metadata": {},
   "outputs": [
    {
     "name": "stdout",
     "output_type": "stream",
     "text": [
      "Tierra fuera de peligro\n"
     ]
    }
   ],
   "source": [
    "tamaño_asteroide = 23\n",
    "velocidad_asteroide = 23\n",
    "if tamaño_asteroide > 25 and velocidad_asteroide > 25:\n",
    "    print (\"Advertencia, peligro de asteroide cerca de la Tierra\")\n",
    "elif velocidad_asteroide >= 25:\n",
    "    print (\"Un rayo de luz se puede ver en el cielo\")\n",
    "else:\n",
    "    print (\"Tierra fuera de peligro\")"
   ]
  }
 ],
 "metadata": {
  "interpreter": {
   "hash": "216338a39e6d657de16fe14c6cb1d46d7149b68b658eb021b63e6e92af0dbc4a"
  },
  "kernelspec": {
   "display_name": "Python 3.10.2 64-bit",
   "language": "python",
   "name": "python3"
  },
  "language_info": {
   "codemirror_mode": {
    "name": "ipython",
    "version": 3
   },
   "file_extension": ".py",
   "mimetype": "text/x-python",
   "name": "python",
   "nbconvert_exporter": "python",
   "pygments_lexer": "ipython3",
   "version": "3.10.2"
  },
  "orig_nbformat": 4
 },
 "nbformat": 4,
 "nbformat_minor": 2
}
